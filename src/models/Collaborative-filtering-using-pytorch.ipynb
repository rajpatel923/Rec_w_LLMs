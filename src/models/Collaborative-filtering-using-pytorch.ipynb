{
 "cells": [
  {
   "cell_type": "code",
   "id": "a4cc19d8",
   "metadata": {
    "ExecuteTime": {
     "end_time": "2024-11-17T19:26:51.487521Z",
     "start_time": "2024-11-17T19:26:48.331315Z"
    }
   },
   "source": [
    "import torch\n",
    "from fontTools.subset import subset\n",
    "\n",
    "if torch.cuda.is_available():\n",
    "    device = torch.device('cuda')  # Use the GPU if available\n",
    "else:\n",
    "    device = torch.device('cpu')  # Fall back to CPU\n",
    "print(device)\n"
   ],
   "outputs": [
    {
     "name": "stdout",
     "output_type": "stream",
     "text": [
      "cuda\n"
     ]
    }
   ],
   "execution_count": 1
  },
  {
   "cell_type": "code",
   "id": "5e4d723c9a33c3c",
   "metadata": {
    "ExecuteTime": {
     "end_time": "2024-11-17T19:26:58.315820Z",
     "start_time": "2024-11-17T19:26:53.169265Z"
    }
   },
   "source": [
    "import pandas as pd\n",
    "df = pd.read_csv(\"../../Data/raw/ratings.csv\")\n",
    "df.head()\n",
    "df = df.reset_index(drop=True)\n",
    "df"
   ],
   "outputs": [
    {
     "data": {
      "text/plain": [
       "          item_id  user_id  rating\n",
       "0               5   997206     3.0\n",
       "1              10   997206     4.0\n",
       "2              13   997206     4.0\n",
       "3              17   997206     5.0\n",
       "4              21   997206     4.0\n",
       "...           ...      ...     ...\n",
       "28490111   104211   187144     1.5\n",
       "28490112   104243   187144     3.5\n",
       "28490113   104374   187144     3.5\n",
       "28490114   104841   187144     3.0\n",
       "28490115   104913   187144     4.0\n",
       "\n",
       "[28490116 rows x 3 columns]"
      ],
      "text/html": [
       "<div>\n",
       "<style scoped>\n",
       "    .dataframe tbody tr th:only-of-type {\n",
       "        vertical-align: middle;\n",
       "    }\n",
       "\n",
       "    .dataframe tbody tr th {\n",
       "        vertical-align: top;\n",
       "    }\n",
       "\n",
       "    .dataframe thead th {\n",
       "        text-align: right;\n",
       "    }\n",
       "</style>\n",
       "<table border=\"1\" class=\"dataframe\">\n",
       "  <thead>\n",
       "    <tr style=\"text-align: right;\">\n",
       "      <th></th>\n",
       "      <th>item_id</th>\n",
       "      <th>user_id</th>\n",
       "      <th>rating</th>\n",
       "    </tr>\n",
       "  </thead>\n",
       "  <tbody>\n",
       "    <tr>\n",
       "      <th>0</th>\n",
       "      <td>5</td>\n",
       "      <td>997206</td>\n",
       "      <td>3.0</td>\n",
       "    </tr>\n",
       "    <tr>\n",
       "      <th>1</th>\n",
       "      <td>10</td>\n",
       "      <td>997206</td>\n",
       "      <td>4.0</td>\n",
       "    </tr>\n",
       "    <tr>\n",
       "      <th>2</th>\n",
       "      <td>13</td>\n",
       "      <td>997206</td>\n",
       "      <td>4.0</td>\n",
       "    </tr>\n",
       "    <tr>\n",
       "      <th>3</th>\n",
       "      <td>17</td>\n",
       "      <td>997206</td>\n",
       "      <td>5.0</td>\n",
       "    </tr>\n",
       "    <tr>\n",
       "      <th>4</th>\n",
       "      <td>21</td>\n",
       "      <td>997206</td>\n",
       "      <td>4.0</td>\n",
       "    </tr>\n",
       "    <tr>\n",
       "      <th>...</th>\n",
       "      <td>...</td>\n",
       "      <td>...</td>\n",
       "      <td>...</td>\n",
       "    </tr>\n",
       "    <tr>\n",
       "      <th>28490111</th>\n",
       "      <td>104211</td>\n",
       "      <td>187144</td>\n",
       "      <td>1.5</td>\n",
       "    </tr>\n",
       "    <tr>\n",
       "      <th>28490112</th>\n",
       "      <td>104243</td>\n",
       "      <td>187144</td>\n",
       "      <td>3.5</td>\n",
       "    </tr>\n",
       "    <tr>\n",
       "      <th>28490113</th>\n",
       "      <td>104374</td>\n",
       "      <td>187144</td>\n",
       "      <td>3.5</td>\n",
       "    </tr>\n",
       "    <tr>\n",
       "      <th>28490114</th>\n",
       "      <td>104841</td>\n",
       "      <td>187144</td>\n",
       "      <td>3.0</td>\n",
       "    </tr>\n",
       "    <tr>\n",
       "      <th>28490115</th>\n",
       "      <td>104913</td>\n",
       "      <td>187144</td>\n",
       "      <td>4.0</td>\n",
       "    </tr>\n",
       "  </tbody>\n",
       "</table>\n",
       "<p>28490116 rows × 3 columns</p>\n",
       "</div>"
      ]
     },
     "execution_count": 2,
     "metadata": {},
     "output_type": "execute_result"
    }
   ],
   "execution_count": 2
  },
  {
   "cell_type": "code",
   "id": "initial_id",
   "metadata": {
    "ExecuteTime": {
     "end_time": "2024-11-17T19:33:46.825751Z",
     "start_time": "2024-11-17T19:33:46.819399Z"
    }
   },
   "source": [
    "import torch\n",
    "from torch.utils.data import Dataset\n",
    "\n",
    "class MovieLensDataset(Dataset):\n",
    "    \"\"\"\n",
    "    The movie lens dataset class, this class prepares the dataset for training and validation.\n",
    "    \"\"\"\n",
    "    def __init__(self, dataframe):\n",
    "        \"\"\"\n",
    "        init the dataset object with users, movies and rating data.\n",
    "        :param users: the users id\n",
    "        :param movies: the movies id\n",
    "        :param ratings: the rating data by users on movie \n",
    "        \"\"\"\n",
    "        self.dataframe = dataframe\n",
    "        self.user_id = dataframe['user_id']\n",
    "        self.movie_id = dataframe['item_id']\n",
    "        self.ratings = dataframe['rating']\n",
    "    def __len__(self):\n",
    "        \"\"\"\n",
    "        returns the total number of smapels in the dataset\n",
    "        :return: len of dataset\n",
    "        \"\"\"\n",
    "        return len(self.dataframe)\n",
    "    def __getitem__(self, index):\n",
    "        \"\"\"\n",
    "        Fetches a sample from the dataset.\n",
    "        \"\"\"\n",
    "        row = self.dataframe.iloc[index]\n",
    "        if index >= len(self.dataframe):\n",
    "            raise IndexError(f\"Index {index} out of range for dataset of size {len(self.dataframe)}\")\n",
    "\n",
    "        return {\n",
    "            'user_id': torch.tensor(row['user_id'], dtype=torch.long),\n",
    "            'item_id': torch.tensor(row['item_id'], dtype=torch.long),\n",
    "            'rating': torch.tensor(row['rating'], dtype=torch.float)\n",
    "        }\n",
    "        \n",
    "        "
   ],
   "outputs": [],
   "execution_count": 19
  },
  {
   "cell_type": "code",
   "id": "f4ee9f637ebfda97",
   "metadata": {
    "ExecuteTime": {
     "end_time": "2024-11-17T19:30:58.164784Z",
     "start_time": "2024-11-17T19:30:58.158722Z"
    }
   },
   "source": [
    "import torch.nn as nn\n",
    "class RecommendationSystemModel(nn.Module):\n",
    "    def __init__(\n",
    "            self,\n",
    "            num_users,\n",
    "            num_movies,\n",
    "            embedding_size=256,\n",
    "            hidden_size=256,\n",
    "            dropout=0.2,\n",
    "    ):\n",
    "        super(RecommendationSystemModel, self).__init__()\n",
    "        self.embedding_size = embedding_size\n",
    "        self.hidden_size = hidden_size\n",
    "        self.num_users = num_users\n",
    "        self.num_movies = num_movies\n",
    "        \n",
    "        self.user_embedding = nn.Embedding(num_embeddings=self.num_users, embedding_dim=self.embedding_size)\n",
    "        self.movie_embedding = nn.Embedding(num_embeddings=self.num_movies, embedding_dim=self.embedding_size)\n",
    "        \n",
    "        self.fc1 =nn.Linear(2*self.embedding_size, self.hidden_size)\n",
    "        self.fc2 = nn.Linear(self.hidden_size, 64)\n",
    "        self.fc3 = nn.Linear(64, 1)\n",
    "        self.dropout = nn.Dropout(p=dropout)\n",
    "        self.relu = nn.ReLU()\n",
    "        \n",
    "    def forward(self, users, movies):\n",
    "        user_embedding = self.user_embedding(users)\n",
    "        movie_embedding = self.movie_embedding(movies)\n",
    "        \n",
    "        combined = torch.cat((user_embedding, movie_embedding), 1)\n",
    "        x = self.relu(self.fc1(combined))\n",
    "        x = self.dropout(x)\n",
    "        x =self.relu( self.fc2(x))\n",
    "        x = self.fc3(x)\n",
    "        output = x.squeeze()\n",
    "        return output\n",
    "       "
   ],
   "outputs": [],
   "execution_count": 11
  },
  {
   "metadata": {
    "ExecuteTime": {
     "end_time": "2024-11-17T19:31:02.887189Z",
     "start_time": "2024-11-17T19:30:58.877543Z"
    }
   },
   "cell_type": "code",
   "source": [
    "from sklearn.preprocessing import LabelEncoder\n",
    "\n",
    "le_user = LabelEncoder()\n",
    "le_movie = LabelEncoder()\n",
    "df.user_id = le_user.fit_transform(df['user_id'].values)\n",
    "df.item_id = le_movie.fit_transform(df['item_id'].values)"
   ],
   "id": "50ddf81078e42dc5",
   "outputs": [],
   "execution_count": 12
  },
  {
   "cell_type": "code",
   "id": "cab1df82e448c044",
   "metadata": {
    "ExecuteTime": {
     "end_time": "2024-11-17T19:31:19.438558Z",
     "start_time": "2024-11-17T19:31:04.644133Z"
    }
   },
   "source": [
    "from sklearn.model_selection import train_test_split\n",
    "df_train, df_val = train_test_split(df, test_size=0.2, random_state=42,stratify=df.rating.values)\n",
    "\n",
    "df_train = df_train.reset_index(drop=True)\n",
    "df_val = df_val.reset_index(drop=True)\n",
    "\n",
    "print(df_train.shape,\"\\n\", df_train)"
   ],
   "outputs": [
    {
     "name": "stdout",
     "output_type": "stream",
     "text": [
      "(22792092, 3) \n",
      "           item_id  user_id  rating\n",
      "0             313   110092     2.0\n",
      "1           10713   154036     2.5\n",
      "2             719   116187     3.0\n",
      "3            1069   115011     3.0\n",
      "4           46163   215847     1.5\n",
      "...           ...      ...     ...\n",
      "22792087      345     7197     4.0\n",
      "22792088     3939   200478     4.5\n",
      "22792089     2322    15224     3.5\n",
      "22792090    10267   229139     4.0\n",
      "22792091     6277   142352     4.0\n",
      "\n",
      "[22792092 rows x 3 columns]\n"
     ]
    }
   ],
   "execution_count": 13
  },
  {
   "cell_type": "code",
   "id": "b2e4eb2534e3e80d",
   "metadata": {
    "ExecuteTime": {
     "end_time": "2024-11-17T19:33:53.098744Z",
     "start_time": "2024-11-17T19:33:51.600506Z"
    }
   },
   "source": [
    "from torch.utils.data import DataLoader\n",
    "\n",
    "BATCH_SIZE = 32\n",
    "# \n",
    "# train_dataset = MovieLensDataset(df_train)\n",
    "# val_dataset = MovieLensDataset(df_val)\n",
    "# \n",
    "# train_loader = DataLoader(df_train, batch_size=BATCH_SIZE, shuffle=True, num_workers=8)\n",
    "# val_loader = DataLoader(df_val, batch_size=BATCH_SIZE, shuffle=True, num_workers=8)\n",
    "# df_train = df_train.reset_index(drop=True)\n",
    "# df_val = df_val.reset_index(drop=True)\n",
    "\n",
    "# Rename columns if necessary\n",
    "df_train = df_train.rename(columns={\n",
    "    'user_id': 'user_id',\n",
    "    'item_id': 'item_id',\n",
    "    'rating': 'rating'\n",
    "})\n",
    "df_val = df_val.rename(columns={\n",
    "    'user_id': 'user_id',\n",
    "    'item_id': 'item_id',\n",
    "    'rating': 'rating'\n",
    "})\n",
    "\n",
    "# Initialize dataset and DataLoader\n",
    "train_dataset = MovieLensDataset(df_train)\n",
    "val_dataset = MovieLensDataset(df_val)\n",
    "\n",
    "train_loader = DataLoader(train_dataset, batch_size=BATCH_SIZE, shuffle=True, num_workers=0)\n",
    "val_loader = DataLoader(val_dataset, batch_size=BATCH_SIZE, shuffle=True, num_workers=0)\n",
    "\n",
    "# Debug DataLoader\n",
    "for i, train_data in enumerate(train_loader):\n",
    "    print(train_data)\n",
    "    break\n"
   ],
   "outputs": [
    {
     "name": "stdout",
     "output_type": "stream",
     "text": [
      "{'user_id': tensor([202160,   1598, 124286, 113701, 110417, 112373, 152932,  77929, 242401,\n",
      "         99132,  60555,  37861, 203750, 140879, 154862, 182585,  16429,  70192,\n",
      "        138093, 219306, 174366, 127113, 191849, 136339,  34763, 138761, 186884,\n",
      "         63391,  19674,  79363,  14492,  45004]), 'item_id': tensor([ 2381, 19936, 13031, 10670,  1197,  9623,  4403,  2893,  1240,  8154,\n",
      "          366,   602,   843,  2619,  2043, 11099,   476,   109,  6885,  3212,\n",
      "         5924, 22655,  1764, 12241,  7805, 22136,  3344,   353,   602, 26113,\n",
      "         2619, 12862]), 'rating': tensor([2.0000, 3.0000, 2.0000, 1.5000, 3.0000, 4.5000, 3.0000, 3.5000, 5.0000,\n",
      "        3.5000, 2.0000, 3.0000, 3.5000, 4.0000, 4.0000, 3.5000, 4.0000, 4.0000,\n",
      "        3.5000, 4.0000, 3.0000, 4.0000, 5.0000, 4.0000, 4.0000, 3.0000, 3.0000,\n",
      "        3.0000, 3.0000, 4.0000, 4.5000, 3.0000])}\n"
     ]
    }
   ],
   "execution_count": 20
  },
  {
   "metadata": {
    "ExecuteTime": {
     "end_time": "2024-11-17T20:02:18.471136Z",
     "start_time": "2024-11-17T19:33:55.958594Z"
    }
   },
   "cell_type": "code",
   "source": [
    "#todo delete after checking if the codes works or not and how much is RMSE values\n",
    "\n",
    "import sys\n",
    "from torch.utils.data import Subset\n",
    "import random\n",
    "\n",
    "SUB_SIZE = int(len(train_dataset) * 0.2)\n",
    "\n",
    "indices = list(range(len(train_dataset)))\n",
    "random.shuffle(indices)\n",
    "sub_indices = indices[:SUB_SIZE]\n",
    "\n",
    "subset_train_dataset = Subset(train_loader.dataset, sub_indices)\n",
    "subset_train_loader = torch.utils.data.DataLoader(subset_train_dataset, batch_size=BATCH_SIZE, shuffle=True, num_workers=0)\n",
    "\n",
    "recommendation_model = RecommendationSystemModel(\n",
    "    num_users=len(le_user.classes_),\n",
    "    num_movies=len(le_movie.classes_),\n",
    "    embedding_size=256,\n",
    "    hidden_size=256,\n",
    "    dropout=0.1,\n",
    ").to(device)\n",
    "\n",
    "optimizer = torch.optim.Adam(\n",
    "    recommendation_model.parameters(),\n",
    "    lr=1e-3,\n",
    ")\n",
    "loss_fn = nn.MSELoss()\n",
    "\n",
    "EPOCHS = 2\n",
    "\n",
    "def log_progress(epoch, step, total_loss, log_progress_step, data_size, losses):\n",
    "    avg_loss = total_loss / log_progress_step\n",
    "    sys.stderr.write(\n",
    "        f\"\\r{epoch+1:02d}/{EPOCHS:02d}  | step: {step}/{data_size} | avg_loss: {avg_loss:.4f}\"\n",
    "    )\n",
    "    sys.stderr.flush()\n",
    "    losses.append(avg_loss)\n",
    "total_loss =0\n",
    "log_progress_step = 100\n",
    "losses = []\n",
    "train_dataset_size = len(df_train)\n",
    "print(f\"traning on {train_dataset_size} samples\")\n",
    "\n",
    "recommendation_model.train()\n",
    "for e in range(EPOCHS):\n",
    "    step_count = 0\n",
    "    for i, train_data in enumerate(subset_train_loader):\n",
    "        outputs = recommendation_model(train_data['user_id'].to(device), train_data['item_id'].to(device))\n",
    "        outputs = outputs.squeeze()\n",
    "        ratings = (\n",
    "            train_data[\"rating\"].to(torch.float32).to(device)\n",
    "        )\n",
    "        loss = loss_fn(outputs,ratings)\n",
    "        total_loss+=loss.sum().item()\n",
    "        optimizer.zero_grad()\n",
    "        loss.backward()\n",
    "        optimizer.step()\n",
    "        step_count+=len(train_data['user_id'])\n",
    "        \n",
    "        if(\n",
    "            step_count%log_progress_step==0 or i == len(train_loader)-1\n",
    "        ):\n",
    "            log_progress(\n",
    "                e, step_count, total_loss,log_progress_step,train_dataset_size, losses\n",
    "            )\n",
    "            total_loss = 0"
   ],
   "id": "61b4c835676e079a",
   "outputs": [
    {
     "name": "stdout",
     "output_type": "stream",
     "text": [
      "traning on 22792092 samples\n"
     ]
    },
    {
     "name": "stderr",
     "output_type": "stream",
     "text": [
      "02/02  | step: 4558400/22792092 | avg_loss: 0.2033"
     ]
    }
   ],
   "execution_count": 21
  },
  {
   "metadata": {
    "ExecuteTime": {
     "end_time": "2024-11-17T20:18:23.261932Z",
     "start_time": "2024-11-17T20:09:35.301844Z"
    }
   },
   "cell_type": "code",
   "source": [
    "from sklearn.metrics import mean_squared_error\n",
    "import numpy as np\n",
    "\n",
    "def calculate_rmse(model, data_loader):\n",
    "    model.eval()  # Set the model to evaluation mode\n",
    "    all_predictions = []\n",
    "    all_actuals = []\n",
    "    with torch.no_grad():  # No need to compute gradients for evaluation\n",
    "        for batch in data_loader:\n",
    "            user_ids = batch['user_id'].to(device)\n",
    "            item_ids = batch['item_id'].to(device)\n",
    "            ratings = batch['rating'].to(torch.float32).to(device)\n",
    "            \n",
    "            # Get predictions\n",
    "            predictions = model(user_ids, item_ids).squeeze()\n",
    "            all_predictions.extend(predictions.cpu().numpy())\n",
    "            all_actuals.extend(ratings.cpu().numpy())\n",
    "    \n",
    "    # Compute RMSE\n",
    "    mse = mean_squared_error(all_actuals, all_predictions)\n",
    "    rmse = np.sqrt(mse)\n",
    "    return rmse\n",
    "\n",
    "# After training, calculate RMSE on the validation dataset\n",
    "validation_rmse = calculate_rmse(recommendation_model, val_loader)\n",
    "print(f\"Validation RMSE: {validation_rmse:.4f}\")\n"
   ],
   "id": "40ca4cf6524c9a04",
   "outputs": [
    {
     "name": "stdout",
     "output_type": "stream",
     "text": [
      "Validation RMSE: 0.8973\n"
     ]
    }
   ],
   "execution_count": 23
  },
  {
   "metadata": {
    "ExecuteTime": {
     "end_time": "2024-11-17T09:36:27.940758Z",
     "start_time": "2024-11-17T07:22:59.968493Z"
    }
   },
   "cell_type": "code",
   "outputs": [
    {
     "name": "stdout",
     "output_type": "stream",
     "text": [
      "traning on 22792092 samples\n"
     ]
    },
    {
     "name": "stderr",
     "output_type": "stream",
     "text": [
      "02/02  | step: 22792092/22792092 | avg_loss: 0.0201"
     ]
    }
   ],
   "execution_count": 10,
   "source": [
    "import sys\n",
    "recommendation_model = RecommendationSystemModel(\n",
    "    num_users=len(le_user.classes_),\n",
    "    num_movies=len(le_movie.classes_),\n",
    "    embedding_size=128,\n",
    "    hidden_size=256,\n",
    "    dropout=0.1,\n",
    ").to(device)\n",
    "\n",
    "optimizer = torch.optim.Adam(\n",
    "    recommendation_model.parameters(),\n",
    "    lr=1e-3,\n",
    ")\n",
    "loss_fn = nn.MSELoss()\n",
    "\n",
    "EPOCHS = 2\n",
    "\n",
    "def log_progress(epoch, step, total_loss, log_progress_step, data_size, losses):\n",
    "    avg_loss = total_loss / log_progress_step\n",
    "    sys.stderr.write(\n",
    "        f\"\\r{epoch+1:02d}/{EPOCHS:02d}  | step: {step}/{data_size} | avg_loss: {avg_loss:.4f}\"\n",
    "    )\n",
    "    sys.stderr.flush()\n",
    "    losses.append(avg_loss)\n",
    "total_loss =0\n",
    "log_progress_step = 100\n",
    "losses = []\n",
    "train_dataset_size = len(df_train)\n",
    "print(f\"traning on {train_dataset_size} samples\")\n",
    "\n",
    "recommendation_model.train()\n",
    "for e in range(EPOCHS):\n",
    "    step_count = 0\n",
    "    for i, train_data in enumerate(train_loader):\n",
    "        outputs = recommendation_model(train_data['user_id'].to(device), train_data['item_id'].to(device))\n",
    "        outputs = outputs.squeeze()\n",
    "        ratings = (\n",
    "            train_data[\"rating\"].to(torch.float32).to(device)\n",
    "        )\n",
    "        loss = loss_fn(outputs,ratings)\n",
    "        total_loss+=loss.sum().item()\n",
    "        optimizer.zero_grad()\n",
    "        loss.backward()\n",
    "        optimizer.step()\n",
    "        step_count+=len(train_data['user_id'])\n",
    "        \n",
    "        if(\n",
    "            step_count%log_progress_step==0 or i == len(train_loader)-1\n",
    "        ):\n",
    "            log_progress(\n",
    "                e, step_count, total_loss,log_progress_step,train_dataset_size, losses\n",
    "            )\n",
    "            total_loss = 0"
   ],
   "id": "2c0a3e4f82863c4f"
  },
  {
   "cell_type": "code",
   "id": "b4267216",
   "metadata": {
    "ExecuteTime": {
     "end_time": "2024-11-17T20:02:18.743639Z",
     "start_time": "2024-11-17T20:02:18.494141Z"
    }
   },
   "source": [
    "\n",
    "import torch\n",
    "\n",
    "# Save the model state_dict with just the filename\n",
    "torch.save(recommendation_model.state_dict(), \"recommendation_model.pth\")\n",
    "\n",
    "print(\"Model saved as 'recommendation_model.pth' in the current directory.\")\n"
   ],
   "outputs": [
    {
     "name": "stdout",
     "output_type": "stream",
     "text": [
      "Model saved as 'recommendation_model.pth' in the current directory.\n"
     ]
    }
   ],
   "execution_count": 22
  },
  {
   "cell_type": "code",
   "id": "1a8a47def2153ebb",
   "metadata": {
    "ExecuteTime": {
     "end_time": "2024-11-17T09:45:54.362439Z",
     "start_time": "2024-11-17T09:36:28.595083Z"
    }
   },
   "source": [
    "from sklearn.metrics import mean_squared_error\n",
    "\n",
    "y_pred = []\n",
    "y_true = []\n",
    "\n",
    "recommendation_model.eval()\n",
    "\n",
    "with torch.no_grad():\n",
    "    for i, valid_data in enumerate(val_loader):\n",
    "        output = recommendation_model(\n",
    "            valid_data[\"user_id\"].to(device), valid_data[\"item_id\"].to(device)\n",
    "        )\n",
    "        ratings = valid_data[\"rating\"].to(device)\n",
    "        y_pred.extend(output.cpu().numpy())\n",
    "        y_true.extend(ratings.cpu().numpy())\n",
    "\n",
    "# Calculate RMSE\n",
    "rms = mean_squared_error(y_true, y_pred, squared=False)\n",
    "print(f\"RMSE: {rms:.4f}\")"
   ],
   "outputs": [
    {
     "name": "stdout",
     "output_type": "stream",
     "text": [
      "RMSE: 0.8677\n"
     ]
    }
   ],
   "execution_count": 12
  },
  {
   "cell_type": "code",
   "id": "80b638d45a4a9609",
   "metadata": {
    "ExecuteTime": {
     "start_time": "2024-11-17T09:45:54.466893Z"
    }
   },
   "source": [
    "from collections import defaultdict\n",
    "\n",
    "def calculate_precision_recall(user_ratings, k, threshold):\n",
    "    user_ratings.sort(key=lambda x: x[0], reverse=True)\n",
    "    n_rel = sum(true_r >= threshold for _, true_r in user_ratings)\n",
    "    n_rec_k = sum(est >= threshold for est, _ in user_ratings[:k])\n",
    "    n_rel_and_rec_k = sum((true_r >= threshold) and (est >= threshold) for est, true_r in user_ratings[:k])\n",
    "\n",
    "    precision = n_rel_and_rec_k / n_rec_k if n_rec_k != 0 else 1\n",
    "    recall = n_rel_and_rec_k / n_rel if n_rel != 0 else 1\n",
    "    return precision, recall\n",
    "\n",
    "user_ratings_comparison = defaultdict(list)\n",
    "\n",
    "with torch.no_grad():\n",
    "    for valid_data in val_loader:\n",
    "        users = valid_data[\"user_id\"].to(device)\n",
    "        movies = valid_data[\"item_id\"].to(device)\n",
    "        ratings = valid_data[\"rating\"].to(device)\n",
    "        output = recommendation_model(users, movies)\n",
    "\n",
    "        for user, pred, true in zip(users, output, ratings):\n",
    "            user_ratings_comparison[user.item()].append((pred[0].item(), true.item()))\n",
    "\n",
    "user_precisions = dict()\n",
    "user_based_recalls = dict()\n",
    "\n",
    "k = 50\n",
    "threshold = 3\n",
    "\n",
    "for user_id, user_ratings in user_ratings_comparison.items():\n",
    "    precision, recall = calculate_precision_recall(user_ratings, k, threshold)\n",
    "    user_precisions[user_id] = precision\n",
    "    user_based_recalls[user_id] = recall\n",
    "\n",
    "\n",
    "average_precision = sum(prec for prec in user_precisions.values()) / len(user_precisions)\n",
    "average_recall = sum(rec for rec in user_based_recalls.values()) / len(user_based_recalls)\n",
    "\n",
    "print(f\"precision @ {k}: {average_precision:.4f}\")\n",
    "print(f\"recall @ {k}: {average_recall:.4f}\")\n"
   ],
   "outputs": [],
   "execution_count": null
  }
 ],
 "metadata": {
  "kernelspec": {
   "display_name": "Python 3 (ipykernel)",
   "language": "python",
   "name": "python3"
  },
  "language_info": {
   "codemirror_mode": {
    "name": "ipython",
    "version": 3
   },
   "file_extension": ".py",
   "mimetype": "text/x-python",
   "name": "python",
   "nbconvert_exporter": "python",
   "pygments_lexer": "ipython3",
   "version": "3.11.3"
  }
 },
 "nbformat": 4,
 "nbformat_minor": 5
}
