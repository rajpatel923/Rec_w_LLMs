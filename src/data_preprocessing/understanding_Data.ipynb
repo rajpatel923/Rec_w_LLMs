{
 "cells": [
  {
   "cell_type": "code",
   "id": "initial_id",
   "metadata": {
    "collapsed": true,
    "ExecuteTime": {
     "end_time": "2024-11-13T17:14:15.635437Z",
     "start_time": "2024-11-13T17:14:14.372899Z"
    }
   },
   "source": [
    "import pandas as pd\n",
    "import numpy as ny"
   ],
   "outputs": [],
   "execution_count": 2
  },
  {
   "metadata": {
    "ExecuteTime": {
     "end_time": "2024-11-13T17:21:33.036518Z",
     "start_time": "2024-11-13T17:19:58.223747Z"
    }
   },
   "cell_type": "code",
   "source": [
    "ratings = pd.read_json(\"../../Dateset/raw/ratings.json\", lines=True)\n",
    "metadata = pd.read_json(\"../../Dateset/raw/metadata.json\", lines=True)\n",
    "reviews = pd.read_json(\"../../Dateset/raw/reviews.json\", lines=True)\n",
    "tags = pd.read_json(\"../../Dateset/raw/tags.json\", lines=True)\n",
    "tag_count = pd.read_json(\"../../Dateset/raw/tag_count.json\", lines=True)\n",
    "#never used\n",
    "survey_answer = pd.read_json(\"../../Dateset/raw/survey_answers.json\", lines=True)"
   ],
   "id": "ac346b69e42e1e97",
   "outputs": [],
   "execution_count": 3
  },
  {
   "metadata": {
    "ExecuteTime": {
     "end_time": "2024-11-13T17:36:06.288829Z",
     "start_time": "2024-11-13T17:36:06.243635Z"
    }
   },
   "cell_type": "code",
   "source": "metadata.head()",
   "id": "df308e4a54aca16f",
   "outputs": [
    {
     "data": {
      "text/plain": [
       "                                title       directedBy  \\\n",
       "0                    Toy Story (1995)    John Lasseter   \n",
       "1                      Jumanji (1995)     Joe Johnston   \n",
       "2             Grumpier Old Men (1995)    Howard Deutch   \n",
       "3            Waiting to Exhale (1995)  Forest Whitaker   \n",
       "4  Father of the Bride Part II (1995)    Charles Shyer   \n",
       "\n",
       "                                            starring dateAdded  avgRating  \\\n",
       "0  Tim Allen, Tom Hanks, Don Rickles, Jim Varney,...      None    3.89146   \n",
       "1  Jonathan Hyde, Bradley Pierce, Robin Williams,...      None    3.26605   \n",
       "2  Jack Lemmon, Walter Matthau, Ann-Margret , Sop...      None    3.17146   \n",
       "3  Angela Bassett, Loretta Devine, Whitney Housto...      None    2.86824   \n",
       "4  Steve Martin, Martin Short, Diane Keaton, Kimb...      None    3.07620   \n",
       "\n",
       "   imdbId  item_id  \n",
       "0  114709        1  \n",
       "1  113497        2  \n",
       "2  113228        3  \n",
       "3  114885        4  \n",
       "4  113041        5  "
      ],
      "text/html": [
       "<div>\n",
       "<style scoped>\n",
       "    .dataframe tbody tr th:only-of-type {\n",
       "        vertical-align: middle;\n",
       "    }\n",
       "\n",
       "    .dataframe tbody tr th {\n",
       "        vertical-align: top;\n",
       "    }\n",
       "\n",
       "    .dataframe thead th {\n",
       "        text-align: right;\n",
       "    }\n",
       "</style>\n",
       "<table border=\"1\" class=\"dataframe\">\n",
       "  <thead>\n",
       "    <tr style=\"text-align: right;\">\n",
       "      <th></th>\n",
       "      <th>title</th>\n",
       "      <th>directedBy</th>\n",
       "      <th>starring</th>\n",
       "      <th>dateAdded</th>\n",
       "      <th>avgRating</th>\n",
       "      <th>imdbId</th>\n",
       "      <th>item_id</th>\n",
       "    </tr>\n",
       "  </thead>\n",
       "  <tbody>\n",
       "    <tr>\n",
       "      <th>0</th>\n",
       "      <td>Toy Story (1995)</td>\n",
       "      <td>John Lasseter</td>\n",
       "      <td>Tim Allen, Tom Hanks, Don Rickles, Jim Varney,...</td>\n",
       "      <td>None</td>\n",
       "      <td>3.89146</td>\n",
       "      <td>114709</td>\n",
       "      <td>1</td>\n",
       "    </tr>\n",
       "    <tr>\n",
       "      <th>1</th>\n",
       "      <td>Jumanji (1995)</td>\n",
       "      <td>Joe Johnston</td>\n",
       "      <td>Jonathan Hyde, Bradley Pierce, Robin Williams,...</td>\n",
       "      <td>None</td>\n",
       "      <td>3.26605</td>\n",
       "      <td>113497</td>\n",
       "      <td>2</td>\n",
       "    </tr>\n",
       "    <tr>\n",
       "      <th>2</th>\n",
       "      <td>Grumpier Old Men (1995)</td>\n",
       "      <td>Howard Deutch</td>\n",
       "      <td>Jack Lemmon, Walter Matthau, Ann-Margret , Sop...</td>\n",
       "      <td>None</td>\n",
       "      <td>3.17146</td>\n",
       "      <td>113228</td>\n",
       "      <td>3</td>\n",
       "    </tr>\n",
       "    <tr>\n",
       "      <th>3</th>\n",
       "      <td>Waiting to Exhale (1995)</td>\n",
       "      <td>Forest Whitaker</td>\n",
       "      <td>Angela Bassett, Loretta Devine, Whitney Housto...</td>\n",
       "      <td>None</td>\n",
       "      <td>2.86824</td>\n",
       "      <td>114885</td>\n",
       "      <td>4</td>\n",
       "    </tr>\n",
       "    <tr>\n",
       "      <th>4</th>\n",
       "      <td>Father of the Bride Part II (1995)</td>\n",
       "      <td>Charles Shyer</td>\n",
       "      <td>Steve Martin, Martin Short, Diane Keaton, Kimb...</td>\n",
       "      <td>None</td>\n",
       "      <td>3.07620</td>\n",
       "      <td>113041</td>\n",
       "      <td>5</td>\n",
       "    </tr>\n",
       "  </tbody>\n",
       "</table>\n",
       "</div>"
      ]
     },
     "execution_count": 4,
     "metadata": {},
     "output_type": "execute_result"
    }
   ],
   "execution_count": 4
  },
  {
   "metadata": {
    "ExecuteTime": {
     "end_time": "2024-11-13T17:36:07.680208Z",
     "start_time": "2024-11-13T17:36:07.675089Z"
    }
   },
   "cell_type": "code",
   "source": "ratings.head()",
   "id": "f2fad15aaae5edbf",
   "outputs": [
    {
     "data": {
      "text/plain": [
       "   item_id  user_id  rating\n",
       "0        5   997206     3.0\n",
       "1       10   997206     4.0\n",
       "2       13   997206     4.0\n",
       "3       17   997206     5.0\n",
       "4       21   997206     4.0"
      ],
      "text/html": [
       "<div>\n",
       "<style scoped>\n",
       "    .dataframe tbody tr th:only-of-type {\n",
       "        vertical-align: middle;\n",
       "    }\n",
       "\n",
       "    .dataframe tbody tr th {\n",
       "        vertical-align: top;\n",
       "    }\n",
       "\n",
       "    .dataframe thead th {\n",
       "        text-align: right;\n",
       "    }\n",
       "</style>\n",
       "<table border=\"1\" class=\"dataframe\">\n",
       "  <thead>\n",
       "    <tr style=\"text-align: right;\">\n",
       "      <th></th>\n",
       "      <th>item_id</th>\n",
       "      <th>user_id</th>\n",
       "      <th>rating</th>\n",
       "    </tr>\n",
       "  </thead>\n",
       "  <tbody>\n",
       "    <tr>\n",
       "      <th>0</th>\n",
       "      <td>5</td>\n",
       "      <td>997206</td>\n",
       "      <td>3.0</td>\n",
       "    </tr>\n",
       "    <tr>\n",
       "      <th>1</th>\n",
       "      <td>10</td>\n",
       "      <td>997206</td>\n",
       "      <td>4.0</td>\n",
       "    </tr>\n",
       "    <tr>\n",
       "      <th>2</th>\n",
       "      <td>13</td>\n",
       "      <td>997206</td>\n",
       "      <td>4.0</td>\n",
       "    </tr>\n",
       "    <tr>\n",
       "      <th>3</th>\n",
       "      <td>17</td>\n",
       "      <td>997206</td>\n",
       "      <td>5.0</td>\n",
       "    </tr>\n",
       "    <tr>\n",
       "      <th>4</th>\n",
       "      <td>21</td>\n",
       "      <td>997206</td>\n",
       "      <td>4.0</td>\n",
       "    </tr>\n",
       "  </tbody>\n",
       "</table>\n",
       "</div>"
      ]
     },
     "execution_count": 5,
     "metadata": {},
     "output_type": "execute_result"
    }
   ],
   "execution_count": 5
  },
  {
   "metadata": {
    "ExecuteTime": {
     "end_time": "2024-11-13T17:36:08.871316Z",
     "start_time": "2024-11-13T17:36:08.868511Z"
    }
   },
   "cell_type": "code",
   "source": "tags.head()",
   "id": "7da5b20436edacd1",
   "outputs": [
    {
     "data": {
      "text/plain": [
       "              tag   id\n",
       "0         aardman   22\n",
       "1  secret service  112\n",
       "2      hillarious  167\n",
       "3       christian  270\n",
       "4           mummy  362"
      ],
      "text/html": [
       "<div>\n",
       "<style scoped>\n",
       "    .dataframe tbody tr th:only-of-type {\n",
       "        vertical-align: middle;\n",
       "    }\n",
       "\n",
       "    .dataframe tbody tr th {\n",
       "        vertical-align: top;\n",
       "    }\n",
       "\n",
       "    .dataframe thead th {\n",
       "        text-align: right;\n",
       "    }\n",
       "</style>\n",
       "<table border=\"1\" class=\"dataframe\">\n",
       "  <thead>\n",
       "    <tr style=\"text-align: right;\">\n",
       "      <th></th>\n",
       "      <th>tag</th>\n",
       "      <th>id</th>\n",
       "    </tr>\n",
       "  </thead>\n",
       "  <tbody>\n",
       "    <tr>\n",
       "      <th>0</th>\n",
       "      <td>aardman</td>\n",
       "      <td>22</td>\n",
       "    </tr>\n",
       "    <tr>\n",
       "      <th>1</th>\n",
       "      <td>secret service</td>\n",
       "      <td>112</td>\n",
       "    </tr>\n",
       "    <tr>\n",
       "      <th>2</th>\n",
       "      <td>hillarious</td>\n",
       "      <td>167</td>\n",
       "    </tr>\n",
       "    <tr>\n",
       "      <th>3</th>\n",
       "      <td>christian</td>\n",
       "      <td>270</td>\n",
       "    </tr>\n",
       "    <tr>\n",
       "      <th>4</th>\n",
       "      <td>mummy</td>\n",
       "      <td>362</td>\n",
       "    </tr>\n",
       "  </tbody>\n",
       "</table>\n",
       "</div>"
      ]
     },
     "execution_count": 6,
     "metadata": {},
     "output_type": "execute_result"
    }
   ],
   "execution_count": 6
  },
  {
   "metadata": {},
   "cell_type": "markdown",
   "source": "Droping the dateAdded columns",
   "id": "7db69a522c0af58f"
  },
  {
   "metadata": {
    "ExecuteTime": {
     "end_time": "2024-11-13T17:36:11.391186Z",
     "start_time": "2024-11-13T17:36:11.210745Z"
    }
   },
   "cell_type": "code",
   "source": [
    "metadata.drop(columns='dateAdded', inplace=True)\n",
    "metadata['starring'] = metadata['starring'].str.split(\",\")\n",
    "metadata.head()"
   ],
   "id": "55458bb1c95289cc",
   "outputs": [
    {
     "data": {
      "text/plain": [
       "                                title       directedBy  \\\n",
       "0                    Toy Story (1995)    John Lasseter   \n",
       "1                      Jumanji (1995)     Joe Johnston   \n",
       "2             Grumpier Old Men (1995)    Howard Deutch   \n",
       "3            Waiting to Exhale (1995)  Forest Whitaker   \n",
       "4  Father of the Bride Part II (1995)    Charles Shyer   \n",
       "\n",
       "                                            starring  avgRating  imdbId  \\\n",
       "0  [Tim Allen,  Tom Hanks,  Don Rickles,  Jim Var...    3.89146  114709   \n",
       "1  [Jonathan Hyde,  Bradley Pierce,  Robin Willia...    3.26605  113497   \n",
       "2  [Jack Lemmon,  Walter Matthau,  Ann-Margret , ...    3.17146  113228   \n",
       "3  [Angela Bassett,  Loretta Devine,  Whitney Hou...    2.86824  114885   \n",
       "4  [Steve Martin,  Martin Short,  Diane Keaton,  ...    3.07620  113041   \n",
       "\n",
       "   item_id  \n",
       "0        1  \n",
       "1        2  \n",
       "2        3  \n",
       "3        4  \n",
       "4        5  "
      ],
      "text/html": [
       "<div>\n",
       "<style scoped>\n",
       "    .dataframe tbody tr th:only-of-type {\n",
       "        vertical-align: middle;\n",
       "    }\n",
       "\n",
       "    .dataframe tbody tr th {\n",
       "        vertical-align: top;\n",
       "    }\n",
       "\n",
       "    .dataframe thead th {\n",
       "        text-align: right;\n",
       "    }\n",
       "</style>\n",
       "<table border=\"1\" class=\"dataframe\">\n",
       "  <thead>\n",
       "    <tr style=\"text-align: right;\">\n",
       "      <th></th>\n",
       "      <th>title</th>\n",
       "      <th>directedBy</th>\n",
       "      <th>starring</th>\n",
       "      <th>avgRating</th>\n",
       "      <th>imdbId</th>\n",
       "      <th>item_id</th>\n",
       "    </tr>\n",
       "  </thead>\n",
       "  <tbody>\n",
       "    <tr>\n",
       "      <th>0</th>\n",
       "      <td>Toy Story (1995)</td>\n",
       "      <td>John Lasseter</td>\n",
       "      <td>[Tim Allen,  Tom Hanks,  Don Rickles,  Jim Var...</td>\n",
       "      <td>3.89146</td>\n",
       "      <td>114709</td>\n",
       "      <td>1</td>\n",
       "    </tr>\n",
       "    <tr>\n",
       "      <th>1</th>\n",
       "      <td>Jumanji (1995)</td>\n",
       "      <td>Joe Johnston</td>\n",
       "      <td>[Jonathan Hyde,  Bradley Pierce,  Robin Willia...</td>\n",
       "      <td>3.26605</td>\n",
       "      <td>113497</td>\n",
       "      <td>2</td>\n",
       "    </tr>\n",
       "    <tr>\n",
       "      <th>2</th>\n",
       "      <td>Grumpier Old Men (1995)</td>\n",
       "      <td>Howard Deutch</td>\n",
       "      <td>[Jack Lemmon,  Walter Matthau,  Ann-Margret , ...</td>\n",
       "      <td>3.17146</td>\n",
       "      <td>113228</td>\n",
       "      <td>3</td>\n",
       "    </tr>\n",
       "    <tr>\n",
       "      <th>3</th>\n",
       "      <td>Waiting to Exhale (1995)</td>\n",
       "      <td>Forest Whitaker</td>\n",
       "      <td>[Angela Bassett,  Loretta Devine,  Whitney Hou...</td>\n",
       "      <td>2.86824</td>\n",
       "      <td>114885</td>\n",
       "      <td>4</td>\n",
       "    </tr>\n",
       "    <tr>\n",
       "      <th>4</th>\n",
       "      <td>Father of the Bride Part II (1995)</td>\n",
       "      <td>Charles Shyer</td>\n",
       "      <td>[Steve Martin,  Martin Short,  Diane Keaton,  ...</td>\n",
       "      <td>3.07620</td>\n",
       "      <td>113041</td>\n",
       "      <td>5</td>\n",
       "    </tr>\n",
       "  </tbody>\n",
       "</table>\n",
       "</div>"
      ]
     },
     "execution_count": 7,
     "metadata": {},
     "output_type": "execute_result"
    }
   ],
   "execution_count": 7
  },
  {
   "metadata": {
    "ExecuteTime": {
     "end_time": "2024-11-13T17:36:16.725870Z",
     "start_time": "2024-11-13T17:36:14.592090Z"
    }
   },
   "cell_type": "code",
   "source": [
    "from sklearn.preprocessing import MinMaxScaler\n",
    "scaler = MinMaxScaler()\n",
    "ratings[\"rating\"] = scaler.fit_transform(ratings[[\"rating\"]])\n",
    "ratings.head()"
   ],
   "id": "e66cea38d11d8cbd",
   "outputs": [
    {
     "data": {
      "text/plain": [
       "   item_id  user_id    rating\n",
       "0        5   997206  0.555556\n",
       "1       10   997206  0.777778\n",
       "2       13   997206  0.777778\n",
       "3       17   997206  1.000000\n",
       "4       21   997206  0.777778"
      ],
      "text/html": [
       "<div>\n",
       "<style scoped>\n",
       "    .dataframe tbody tr th:only-of-type {\n",
       "        vertical-align: middle;\n",
       "    }\n",
       "\n",
       "    .dataframe tbody tr th {\n",
       "        vertical-align: top;\n",
       "    }\n",
       "\n",
       "    .dataframe thead th {\n",
       "        text-align: right;\n",
       "    }\n",
       "</style>\n",
       "<table border=\"1\" class=\"dataframe\">\n",
       "  <thead>\n",
       "    <tr style=\"text-align: right;\">\n",
       "      <th></th>\n",
       "      <th>item_id</th>\n",
       "      <th>user_id</th>\n",
       "      <th>rating</th>\n",
       "    </tr>\n",
       "  </thead>\n",
       "  <tbody>\n",
       "    <tr>\n",
       "      <th>0</th>\n",
       "      <td>5</td>\n",
       "      <td>997206</td>\n",
       "      <td>0.555556</td>\n",
       "    </tr>\n",
       "    <tr>\n",
       "      <th>1</th>\n",
       "      <td>10</td>\n",
       "      <td>997206</td>\n",
       "      <td>0.777778</td>\n",
       "    </tr>\n",
       "    <tr>\n",
       "      <th>2</th>\n",
       "      <td>13</td>\n",
       "      <td>997206</td>\n",
       "      <td>0.777778</td>\n",
       "    </tr>\n",
       "    <tr>\n",
       "      <th>3</th>\n",
       "      <td>17</td>\n",
       "      <td>997206</td>\n",
       "      <td>1.000000</td>\n",
       "    </tr>\n",
       "    <tr>\n",
       "      <th>4</th>\n",
       "      <td>21</td>\n",
       "      <td>997206</td>\n",
       "      <td>0.777778</td>\n",
       "    </tr>\n",
       "  </tbody>\n",
       "</table>\n",
       "</div>"
      ]
     },
     "execution_count": 8,
     "metadata": {},
     "output_type": "execute_result"
    }
   ],
   "execution_count": 8
  },
  {
   "metadata": {
    "ExecuteTime": {
     "end_time": "2024-11-13T17:36:18.257275Z",
     "start_time": "2024-11-13T17:36:18.244817Z"
    }
   },
   "cell_type": "code",
   "source": [
    "metadata.drop(columns='imdbId', inplace=True)\n",
    "tags.rename(columns={\"id\": \"tag_id\"}, inplace=True)"
   ],
   "id": "1cf1d4e53e709317",
   "outputs": [],
   "execution_count": 9
  },
  {
   "metadata": {
    "ExecuteTime": {
     "end_time": "2024-11-13T17:36:19.311955Z",
     "start_time": "2024-11-13T17:36:19.295968Z"
    }
   },
   "cell_type": "code",
   "source": [
    "tag_count = tag_count.merge(tags, on='tag_id', how='left')\n",
    "tag_count.drop(columns='tag_id', inplace=True)"
   ],
   "id": "c2d9a5c9bff0b93",
   "outputs": [],
   "execution_count": 10
  },
  {
   "metadata": {
    "ExecuteTime": {
     "end_time": "2024-11-13T17:36:19.694144Z",
     "start_time": "2024-11-13T17:36:19.691069Z"
    }
   },
   "cell_type": "code",
   "source": "tag_count.head()",
   "id": "a1809324aa02cc0a",
   "outputs": [
    {
     "data": {
      "text/plain": [
       "   item_id  num        tag\n",
       "0        1    4         3d\n",
       "1        1    1     action\n",
       "2        1   26  adventure\n",
       "3        1    1      alien\n",
       "4        1   21   animated"
      ],
      "text/html": [
       "<div>\n",
       "<style scoped>\n",
       "    .dataframe tbody tr th:only-of-type {\n",
       "        vertical-align: middle;\n",
       "    }\n",
       "\n",
       "    .dataframe tbody tr th {\n",
       "        vertical-align: top;\n",
       "    }\n",
       "\n",
       "    .dataframe thead th {\n",
       "        text-align: right;\n",
       "    }\n",
       "</style>\n",
       "<table border=\"1\" class=\"dataframe\">\n",
       "  <thead>\n",
       "    <tr style=\"text-align: right;\">\n",
       "      <th></th>\n",
       "      <th>item_id</th>\n",
       "      <th>num</th>\n",
       "      <th>tag</th>\n",
       "    </tr>\n",
       "  </thead>\n",
       "  <tbody>\n",
       "    <tr>\n",
       "      <th>0</th>\n",
       "      <td>1</td>\n",
       "      <td>4</td>\n",
       "      <td>3d</td>\n",
       "    </tr>\n",
       "    <tr>\n",
       "      <th>1</th>\n",
       "      <td>1</td>\n",
       "      <td>1</td>\n",
       "      <td>action</td>\n",
       "    </tr>\n",
       "    <tr>\n",
       "      <th>2</th>\n",
       "      <td>1</td>\n",
       "      <td>26</td>\n",
       "      <td>adventure</td>\n",
       "    </tr>\n",
       "    <tr>\n",
       "      <th>3</th>\n",
       "      <td>1</td>\n",
       "      <td>1</td>\n",
       "      <td>alien</td>\n",
       "    </tr>\n",
       "    <tr>\n",
       "      <th>4</th>\n",
       "      <td>1</td>\n",
       "      <td>21</td>\n",
       "      <td>animated</td>\n",
       "    </tr>\n",
       "  </tbody>\n",
       "</table>\n",
       "</div>"
      ]
     },
     "execution_count": 11,
     "metadata": {},
     "output_type": "execute_result"
    }
   ],
   "execution_count": 11
  },
  {
   "metadata": {
    "ExecuteTime": {
     "end_time": "2024-11-13T17:36:22.445021Z",
     "start_time": "2024-11-13T17:36:21.693505Z"
    }
   },
   "cell_type": "code",
   "source": [
    "# Aggregate tags into a dictionary for each item_id\n",
    "aggregated_df = tag_count.groupby('item_id').apply(\n",
    "    lambda x: dict(zip(x['tag'], x['num']))\n",
    ").reset_index(name='tags')\n",
    "\n",
    "# Resulting DataFrame\n",
    "print(aggregated_df)"
   ],
   "id": "b379706dc00724",
   "outputs": [
    {
     "name": "stdout",
     "output_type": "stream",
     "text": [
      "       item_id                                               tags\n",
      "0            1  {'3d': 4, 'action': 1, 'adventure': 26, 'alien...\n",
      "1            2  {'adapted from:book': 3, 'adventure': 7, 'anim...\n",
      "2            3  {'comedy': 1, 'funniest movies': 1, 'funny': 1...\n",
      "3            4     {'chick flick': 3, 'divorce': 1, 'revenge': 1}\n",
      "4            5  {'aging': 1, 'comedy': 3, 'family': 4, 'fantas...\n",
      "...        ...                                                ...\n",
      "39680   238572                                  {'plot holes': 1}\n",
      "39681   239006  {'oscar winner': 1, 'propaganda': 1, 'religion...\n",
      "39682   239040  {'courtroom': 1, 'depression': 1, 'journalism'...\n",
      "39683   239042  {'black and white': 1, 'no dialogue': 1, 'visu...\n",
      "39684   239044  {'coming of age': 1, 'jewish': 1, 'jews': 1, '...\n",
      "\n",
      "[39685 rows x 2 columns]\n"
     ]
    },
    {
     "name": "stderr",
     "output_type": "stream",
     "text": [
      "/var/folders/cb/95mn1h0s29zdm2fkx_n663n40000gn/T/ipykernel_40143/3895900356.py:2: DeprecationWarning: DataFrameGroupBy.apply operated on the grouping columns. This behavior is deprecated, and in a future version of pandas the grouping columns will be excluded from the operation. Either pass `include_groups=False` to exclude the groupings or explicitly select the grouping columns after groupby to silence this warning.\n",
      "  aggregated_df = tag_count.groupby('item_id').apply(\n"
     ]
    }
   ],
   "execution_count": 12
  },
  {
   "metadata": {
    "ExecuteTime": {
     "end_time": "2024-11-13T17:36:24.771264Z",
     "start_time": "2024-11-13T17:36:24.758032Z"
    }
   },
   "cell_type": "code",
   "source": [
    "ID_title = metadata[['title', 'item_id']]\n",
    "aggregated_df=aggregated_df.merge(ID_title, on='item_id', how='left')\n",
    "aggregated_df.head()"
   ],
   "id": "499736b63b3cdf4f",
   "outputs": [
    {
     "data": {
      "text/plain": [
       "   item_id                                               tags  \\\n",
       "0        1  {'3d': 4, 'action': 1, 'adventure': 26, 'alien...   \n",
       "1        2  {'adapted from:book': 3, 'adventure': 7, 'anim...   \n",
       "2        3  {'comedy': 1, 'funniest movies': 1, 'funny': 1...   \n",
       "3        4     {'chick flick': 3, 'divorce': 1, 'revenge': 1}   \n",
       "4        5  {'aging': 1, 'comedy': 3, 'family': 4, 'fantas...   \n",
       "\n",
       "                                title  \n",
       "0                    Toy Story (1995)  \n",
       "1                      Jumanji (1995)  \n",
       "2             Grumpier Old Men (1995)  \n",
       "3            Waiting to Exhale (1995)  \n",
       "4  Father of the Bride Part II (1995)  "
      ],
      "text/html": [
       "<div>\n",
       "<style scoped>\n",
       "    .dataframe tbody tr th:only-of-type {\n",
       "        vertical-align: middle;\n",
       "    }\n",
       "\n",
       "    .dataframe tbody tr th {\n",
       "        vertical-align: top;\n",
       "    }\n",
       "\n",
       "    .dataframe thead th {\n",
       "        text-align: right;\n",
       "    }\n",
       "</style>\n",
       "<table border=\"1\" class=\"dataframe\">\n",
       "  <thead>\n",
       "    <tr style=\"text-align: right;\">\n",
       "      <th></th>\n",
       "      <th>item_id</th>\n",
       "      <th>tags</th>\n",
       "      <th>title</th>\n",
       "    </tr>\n",
       "  </thead>\n",
       "  <tbody>\n",
       "    <tr>\n",
       "      <th>0</th>\n",
       "      <td>1</td>\n",
       "      <td>{'3d': 4, 'action': 1, 'adventure': 26, 'alien...</td>\n",
       "      <td>Toy Story (1995)</td>\n",
       "    </tr>\n",
       "    <tr>\n",
       "      <th>1</th>\n",
       "      <td>2</td>\n",
       "      <td>{'adapted from:book': 3, 'adventure': 7, 'anim...</td>\n",
       "      <td>Jumanji (1995)</td>\n",
       "    </tr>\n",
       "    <tr>\n",
       "      <th>2</th>\n",
       "      <td>3</td>\n",
       "      <td>{'comedy': 1, 'funniest movies': 1, 'funny': 1...</td>\n",
       "      <td>Grumpier Old Men (1995)</td>\n",
       "    </tr>\n",
       "    <tr>\n",
       "      <th>3</th>\n",
       "      <td>4</td>\n",
       "      <td>{'chick flick': 3, 'divorce': 1, 'revenge': 1}</td>\n",
       "      <td>Waiting to Exhale (1995)</td>\n",
       "    </tr>\n",
       "    <tr>\n",
       "      <th>4</th>\n",
       "      <td>5</td>\n",
       "      <td>{'aging': 1, 'comedy': 3, 'family': 4, 'fantas...</td>\n",
       "      <td>Father of the Bride Part II (1995)</td>\n",
       "    </tr>\n",
       "  </tbody>\n",
       "</table>\n",
       "</div>"
      ]
     },
     "execution_count": 13,
     "metadata": {},
     "output_type": "execute_result"
    }
   ],
   "execution_count": 13
  },
  {
   "metadata": {
    "ExecuteTime": {
     "end_time": "2024-11-13T17:36:41.123648Z",
     "start_time": "2024-11-13T17:36:40.366789Z"
    }
   },
   "cell_type": "code",
   "source": [
    "from langchain.prompts import PromptTemplate\n",
    "prompt_template = PromptTemplate(\n",
    "    input_variables=[\"title\", \"tags\"],\n",
    "    template=\"Movie name: {title} has the following tags applied by users: {tags}.\"\n",
    ")\n",
    "\n",
    "def create_descriptive_text(row):\n",
    "    tag_descriptions = \", \".join(\n",
    "        [f\"'{tag}' ({count} times)\" for tag, count in row['tags'].items()]\n",
    "    )\n",
    "    return prompt_template.format(\n",
    "        title=row['title'],\n",
    "        tags=tag_descriptions\n",
    "    )\n",
    "aggregated_df['description'] = aggregated_df.apply(create_descriptive_text, axis=1)\n",
    "aggregated_df.head()"
   ],
   "id": "84533868d7e7f3b5",
   "outputs": [
    {
     "data": {
      "text/plain": [
       "   item_id                                               tags  \\\n",
       "0        1  {'3d': 4, 'action': 1, 'adventure': 26, 'alien...   \n",
       "1        2  {'adapted from:book': 3, 'adventure': 7, 'anim...   \n",
       "2        3  {'comedy': 1, 'funniest movies': 1, 'funny': 1...   \n",
       "3        4     {'chick flick': 3, 'divorce': 1, 'revenge': 1}   \n",
       "4        5  {'aging': 1, 'comedy': 3, 'family': 4, 'fantas...   \n",
       "\n",
       "                                title  \\\n",
       "0                    Toy Story (1995)   \n",
       "1                      Jumanji (1995)   \n",
       "2             Grumpier Old Men (1995)   \n",
       "3            Waiting to Exhale (1995)   \n",
       "4  Father of the Bride Part II (1995)   \n",
       "\n",
       "                                         description  \n",
       "0  Movie name: Toy Story (1995) has the following...  \n",
       "1  Movie name: Jumanji (1995) has the following t...  \n",
       "2  Movie name: Grumpier Old Men (1995) has the fo...  \n",
       "3  Movie name: Waiting to Exhale (1995) has the f...  \n",
       "4  Movie name: Father of the Bride Part II (1995)...  "
      ],
      "text/html": [
       "<div>\n",
       "<style scoped>\n",
       "    .dataframe tbody tr th:only-of-type {\n",
       "        vertical-align: middle;\n",
       "    }\n",
       "\n",
       "    .dataframe tbody tr th {\n",
       "        vertical-align: top;\n",
       "    }\n",
       "\n",
       "    .dataframe thead th {\n",
       "        text-align: right;\n",
       "    }\n",
       "</style>\n",
       "<table border=\"1\" class=\"dataframe\">\n",
       "  <thead>\n",
       "    <tr style=\"text-align: right;\">\n",
       "      <th></th>\n",
       "      <th>item_id</th>\n",
       "      <th>tags</th>\n",
       "      <th>title</th>\n",
       "      <th>description</th>\n",
       "    </tr>\n",
       "  </thead>\n",
       "  <tbody>\n",
       "    <tr>\n",
       "      <th>0</th>\n",
       "      <td>1</td>\n",
       "      <td>{'3d': 4, 'action': 1, 'adventure': 26, 'alien...</td>\n",
       "      <td>Toy Story (1995)</td>\n",
       "      <td>Movie name: Toy Story (1995) has the following...</td>\n",
       "    </tr>\n",
       "    <tr>\n",
       "      <th>1</th>\n",
       "      <td>2</td>\n",
       "      <td>{'adapted from:book': 3, 'adventure': 7, 'anim...</td>\n",
       "      <td>Jumanji (1995)</td>\n",
       "      <td>Movie name: Jumanji (1995) has the following t...</td>\n",
       "    </tr>\n",
       "    <tr>\n",
       "      <th>2</th>\n",
       "      <td>3</td>\n",
       "      <td>{'comedy': 1, 'funniest movies': 1, 'funny': 1...</td>\n",
       "      <td>Grumpier Old Men (1995)</td>\n",
       "      <td>Movie name: Grumpier Old Men (1995) has the fo...</td>\n",
       "    </tr>\n",
       "    <tr>\n",
       "      <th>3</th>\n",
       "      <td>4</td>\n",
       "      <td>{'chick flick': 3, 'divorce': 1, 'revenge': 1}</td>\n",
       "      <td>Waiting to Exhale (1995)</td>\n",
       "      <td>Movie name: Waiting to Exhale (1995) has the f...</td>\n",
       "    </tr>\n",
       "    <tr>\n",
       "      <th>4</th>\n",
       "      <td>5</td>\n",
       "      <td>{'aging': 1, 'comedy': 3, 'family': 4, 'fantas...</td>\n",
       "      <td>Father of the Bride Part II (1995)</td>\n",
       "      <td>Movie name: Father of the Bride Part II (1995)...</td>\n",
       "    </tr>\n",
       "  </tbody>\n",
       "</table>\n",
       "</div>"
      ]
     },
     "execution_count": 14,
     "metadata": {},
     "output_type": "execute_result"
    }
   ],
   "execution_count": 14
  },
  {
   "metadata": {
    "ExecuteTime": {
     "end_time": "2024-11-13T17:36:48.616365Z",
     "start_time": "2024-11-13T17:36:48.611150Z"
    }
   },
   "cell_type": "code",
   "source": "aggregated_df.drop(columns=['tags','title'], inplace=True)",
   "id": "26cb34e79960d26b",
   "outputs": [],
   "execution_count": 15
  },
  {
   "metadata": {
    "ExecuteTime": {
     "end_time": "2024-11-13T17:36:49.122917Z",
     "start_time": "2024-11-13T17:36:49.118094Z"
    }
   },
   "cell_type": "code",
   "source": "aggregated_df.head() # this one has movies name and the all the tags applied by the users in the description tag.",
   "id": "d53944e49fea9ac8",
   "outputs": [
    {
     "data": {
      "text/plain": [
       "   item_id                                        description\n",
       "0        1  Movie name: Toy Story (1995) has the following...\n",
       "1        2  Movie name: Jumanji (1995) has the following t...\n",
       "2        3  Movie name: Grumpier Old Men (1995) has the fo...\n",
       "3        4  Movie name: Waiting to Exhale (1995) has the f...\n",
       "4        5  Movie name: Father of the Bride Part II (1995)..."
      ],
      "text/html": [
       "<div>\n",
       "<style scoped>\n",
       "    .dataframe tbody tr th:only-of-type {\n",
       "        vertical-align: middle;\n",
       "    }\n",
       "\n",
       "    .dataframe tbody tr th {\n",
       "        vertical-align: top;\n",
       "    }\n",
       "\n",
       "    .dataframe thead th {\n",
       "        text-align: right;\n",
       "    }\n",
       "</style>\n",
       "<table border=\"1\" class=\"dataframe\">\n",
       "  <thead>\n",
       "    <tr style=\"text-align: right;\">\n",
       "      <th></th>\n",
       "      <th>item_id</th>\n",
       "      <th>description</th>\n",
       "    </tr>\n",
       "  </thead>\n",
       "  <tbody>\n",
       "    <tr>\n",
       "      <th>0</th>\n",
       "      <td>1</td>\n",
       "      <td>Movie name: Toy Story (1995) has the following...</td>\n",
       "    </tr>\n",
       "    <tr>\n",
       "      <th>1</th>\n",
       "      <td>2</td>\n",
       "      <td>Movie name: Jumanji (1995) has the following t...</td>\n",
       "    </tr>\n",
       "    <tr>\n",
       "      <th>2</th>\n",
       "      <td>3</td>\n",
       "      <td>Movie name: Grumpier Old Men (1995) has the fo...</td>\n",
       "    </tr>\n",
       "    <tr>\n",
       "      <th>3</th>\n",
       "      <td>4</td>\n",
       "      <td>Movie name: Waiting to Exhale (1995) has the f...</td>\n",
       "    </tr>\n",
       "    <tr>\n",
       "      <th>4</th>\n",
       "      <td>5</td>\n",
       "      <td>Movie name: Father of the Bride Part II (1995)...</td>\n",
       "    </tr>\n",
       "  </tbody>\n",
       "</table>\n",
       "</div>"
      ]
     },
     "execution_count": 16,
     "metadata": {},
     "output_type": "execute_result"
    }
   ],
   "execution_count": 16
  },
  {
   "metadata": {
    "ExecuteTime": {
     "end_time": "2024-11-13T17:36:52.756878Z",
     "start_time": "2024-11-13T17:36:52.750227Z"
    }
   },
   "cell_type": "code",
   "source": "print(metadata.head(), \"\\n\", aggregated_df.head(), \"\\n\", ratings.head(), \"\\n\", reviews.head())",
   "id": "69101bcca5d2cfec",
   "outputs": [
    {
     "name": "stdout",
     "output_type": "stream",
     "text": [
      "                                title       directedBy  \\\n",
      "0                    Toy Story (1995)    John Lasseter   \n",
      "1                      Jumanji (1995)     Joe Johnston   \n",
      "2             Grumpier Old Men (1995)    Howard Deutch   \n",
      "3            Waiting to Exhale (1995)  Forest Whitaker   \n",
      "4  Father of the Bride Part II (1995)    Charles Shyer   \n",
      "\n",
      "                                            starring  avgRating  item_id  \n",
      "0  [Tim Allen,  Tom Hanks,  Don Rickles,  Jim Var...    3.89146        1  \n",
      "1  [Jonathan Hyde,  Bradley Pierce,  Robin Willia...    3.26605        2  \n",
      "2  [Jack Lemmon,  Walter Matthau,  Ann-Margret , ...    3.17146        3  \n",
      "3  [Angela Bassett,  Loretta Devine,  Whitney Hou...    2.86824        4  \n",
      "4  [Steve Martin,  Martin Short,  Diane Keaton,  ...    3.07620        5   \n",
      "    item_id                                        description\n",
      "0        1  Movie name: Toy Story (1995) has the following...\n",
      "1        2  Movie name: Jumanji (1995) has the following t...\n",
      "2        3  Movie name: Grumpier Old Men (1995) has the fo...\n",
      "3        4  Movie name: Waiting to Exhale (1995) has the f...\n",
      "4        5  Movie name: Father of the Bride Part II (1995)... \n",
      "    item_id  user_id    rating\n",
      "0        5   997206  0.555556\n",
      "1       10   997206  0.777778\n",
      "2       13   997206  0.777778\n",
      "3       17   997206  1.000000\n",
      "4       21   997206  0.777778 \n",
      "    item_id                                                txt\n",
      "0   172063  one-shot record of a belly dancer; \"Carmencita...\n",
      "1    95541  Banging Away..; Thomas Edison and William K.L....\n",
      "2     7065  unbelievable; I cannot understand how anyone c...\n",
      "3     3739  I'm still starry-eyed from it; I saw this last...\n",
      "4     1562  Failed on every Front; Joel Schumacher who did...\n"
     ]
    }
   ],
   "execution_count": 17
  },
  {
   "metadata": {
    "ExecuteTime": {
     "end_time": "2024-11-13T17:37:08.308833Z",
     "start_time": "2024-11-13T17:36:54.723579Z"
    }
   },
   "cell_type": "code",
   "source": [
    "aggregated_reviews = reviews.groupby('item_id')['txt'].apply(\" \".join).reset_index()\n",
    "aggregated_reviews.rename(columns={'txt': 'all_reviews'}, inplace=True)\n",
    "aggregated_reviews = aggregated_reviews.merge(ID_title, on='item_id', how='left')"
   ],
   "id": "14edd145e7aa24a2",
   "outputs": [],
   "execution_count": 18
  },
  {
   "metadata": {
    "ExecuteTime": {
     "end_time": "2024-11-14T03:56:48.531604Z",
     "start_time": "2024-11-14T03:56:48.521287Z"
    }
   },
   "cell_type": "code",
   "source": "aggregated_reviews.head()",
   "id": "2f1f432d8d14c317",
   "outputs": [
    {
     "data": {
      "text/plain": [
       "   item_id                                        all_reviews  \\\n",
       "0        1  The one film that started what is now a cliché...   \n",
       "1        2  Fun little movie hidden in the back drawer; Mo...   \n",
       "2        3  Our Second Visit to Wabasha, Minnesota; Sequel...   \n",
       "3        4  Extra in Movie; I was actually an extra in thi...   \n",
       "4        5  The Best Movie of All Time; let me tell you.. ...   \n",
       "\n",
       "                                title  \n",
       "0                    Toy Story (1995)  \n",
       "1                      Jumanji (1995)  \n",
       "2             Grumpier Old Men (1995)  \n",
       "3            Waiting to Exhale (1995)  \n",
       "4  Father of the Bride Part II (1995)  "
      ],
      "text/html": [
       "<div>\n",
       "<style scoped>\n",
       "    .dataframe tbody tr th:only-of-type {\n",
       "        vertical-align: middle;\n",
       "    }\n",
       "\n",
       "    .dataframe tbody tr th {\n",
       "        vertical-align: top;\n",
       "    }\n",
       "\n",
       "    .dataframe thead th {\n",
       "        text-align: right;\n",
       "    }\n",
       "</style>\n",
       "<table border=\"1\" class=\"dataframe\">\n",
       "  <thead>\n",
       "    <tr style=\"text-align: right;\">\n",
       "      <th></th>\n",
       "      <th>item_id</th>\n",
       "      <th>all_reviews</th>\n",
       "      <th>title</th>\n",
       "    </tr>\n",
       "  </thead>\n",
       "  <tbody>\n",
       "    <tr>\n",
       "      <th>0</th>\n",
       "      <td>1</td>\n",
       "      <td>The one film that started what is now a cliché...</td>\n",
       "      <td>Toy Story (1995)</td>\n",
       "    </tr>\n",
       "    <tr>\n",
       "      <th>1</th>\n",
       "      <td>2</td>\n",
       "      <td>Fun little movie hidden in the back drawer; Mo...</td>\n",
       "      <td>Jumanji (1995)</td>\n",
       "    </tr>\n",
       "    <tr>\n",
       "      <th>2</th>\n",
       "      <td>3</td>\n",
       "      <td>Our Second Visit to Wabasha, Minnesota; Sequel...</td>\n",
       "      <td>Grumpier Old Men (1995)</td>\n",
       "    </tr>\n",
       "    <tr>\n",
       "      <th>3</th>\n",
       "      <td>4</td>\n",
       "      <td>Extra in Movie; I was actually an extra in thi...</td>\n",
       "      <td>Waiting to Exhale (1995)</td>\n",
       "    </tr>\n",
       "    <tr>\n",
       "      <th>4</th>\n",
       "      <td>5</td>\n",
       "      <td>The Best Movie of All Time; let me tell you.. ...</td>\n",
       "      <td>Father of the Bride Part II (1995)</td>\n",
       "    </tr>\n",
       "  </tbody>\n",
       "</table>\n",
       "</div>"
      ]
     },
     "execution_count": 35,
     "metadata": {},
     "output_type": "execute_result"
    }
   ],
   "execution_count": 35
  },
  {
   "metadata": {
    "ExecuteTime": {
     "end_time": "2024-11-14T16:54:05.188025Z",
     "start_time": "2024-11-14T15:42:28.204675Z"
    }
   },
   "cell_type": "code",
   "source": [
    "import ollama\n",
    "import pandas as pd\n",
    "import numpy as np\n",
    "from concurrent.futures import ThreadPoolExecutor, as_completed\n",
    "\n",
    "# Define the function to summarize reviews using Ollama's LLaMA model with error handling\n",
    "def summarize_reviews(movie_title, text):\n",
    "    try:\n",
    "        prompt = f\"Given the following dataset of user reviews for the movie {movie_title}, your task is to analyze and summarize all the reviews provided. Ensure that the summary captures all the essential feedback, sentiments, themes, and details present in each review. Focus on representing the variety of perspectives accurately, including both positive and negative aspects, if present. This summary will help improve personalized movie recommendations, so please maintain a balanced view that reflects the overall impression left by users. The all users reviews: {text}\"\n",
    "        response = ollama.generate(model=\"llama3.2\", prompt=prompt)\n",
    "        return response.get(\"response\", \"Error: Summary not available\")\n",
    "    except Exception as e:\n",
    "        print(f\"Error summarizing {movie_title}: {e}\")\n",
    "        return \"Error during summarization\"\n",
    "\n",
    "# Function to process a chunk of DataFrame\n",
    "def process_chunk(chunk):\n",
    "    chunk['review_summary'] = chunk.apply(lambda row: summarize_reviews(row['title'], row['all_reviews']), axis=1)\n",
    "    return chunk\n",
    "\n",
    "# Function to process DataFrame in batches and apply summarization in parallel\n",
    "def process_in_batches(df, batch_size=50):\n",
    "    results = []\n",
    "    chunks = [df[i:i+batch_size] for i in range(0, df.shape[0], batch_size)]\n",
    "    \n",
    "    with ThreadPoolExecutor(max_workers=4) as executor:  # Adjust `max_workers` as needed\n",
    "        futures = [executor.submit(process_chunk, chunk) for chunk in chunks]\n",
    "        \n",
    "        for future in as_completed(futures):\n",
    "            results.append(future.result())\n",
    "    \n",
    "    return pd.concat(results, ignore_index=True)\n",
    "\n",
    "# Testing on a smaller subset of the DataFrame (e.g., first 100 rows)\n",
    "\n",
    "testDataset = aggregated_reviews.head(50)\n",
    "testDataset = process_in_batches(testDataset, batch_size=5)"
   ],
   "id": "79c6ca0b9d97f3f",
   "outputs": [
    {
     "ename": "KeyboardInterrupt",
     "evalue": "",
     "output_type": "error",
     "traceback": [
      "\u001B[0;31m---------------------------------------------------------------------------\u001B[0m",
      "\u001B[0;31mKeyboardInterrupt\u001B[0m                         Traceback (most recent call last)",
      "Cell \u001B[0;32mIn[52], line 29\u001B[0m, in \u001B[0;36mprocess_in_batches\u001B[0;34m(df, batch_size)\u001B[0m\n\u001B[1;32m     27\u001B[0m futures \u001B[38;5;241m=\u001B[39m [executor\u001B[38;5;241m.\u001B[39msubmit(process_chunk, chunk) \u001B[38;5;28;01mfor\u001B[39;00m chunk \u001B[38;5;129;01min\u001B[39;00m chunks]\n\u001B[0;32m---> 29\u001B[0m \u001B[43m\u001B[49m\u001B[38;5;28;43;01mfor\u001B[39;49;00m\u001B[43m \u001B[49m\u001B[43mfuture\u001B[49m\u001B[43m \u001B[49m\u001B[38;5;129;43;01min\u001B[39;49;00m\u001B[43m \u001B[49m\u001B[43mas_completed\u001B[49m\u001B[43m(\u001B[49m\u001B[43mfutures\u001B[49m\u001B[43m)\u001B[49m\u001B[43m:\u001B[49m\n\u001B[1;32m     30\u001B[0m \u001B[43m    \u001B[49m\u001B[43mresults\u001B[49m\u001B[38;5;241;43m.\u001B[39;49m\u001B[43mappend\u001B[49m\u001B[43m(\u001B[49m\u001B[43mfuture\u001B[49m\u001B[38;5;241;43m.\u001B[39;49m\u001B[43mresult\u001B[49m\u001B[43m(\u001B[49m\u001B[43m)\u001B[49m\u001B[43m)\u001B[49m\n",
      "File \u001B[0;32m/opt/anaconda3/envs/Movie_rec/lib/python3.11/concurrent/futures/_base.py:243\u001B[0m, in \u001B[0;36mas_completed\u001B[0;34m(fs, timeout)\u001B[0m\n\u001B[1;32m    239\u001B[0m         \u001B[38;5;28;01mraise\u001B[39;00m \u001B[38;5;167;01mTimeoutError\u001B[39;00m(\n\u001B[1;32m    240\u001B[0m                 \u001B[38;5;124m'\u001B[39m\u001B[38;5;132;01m%d\u001B[39;00m\u001B[38;5;124m (of \u001B[39m\u001B[38;5;132;01m%d\u001B[39;00m\u001B[38;5;124m) futures unfinished\u001B[39m\u001B[38;5;124m'\u001B[39m \u001B[38;5;241m%\u001B[39m (\n\u001B[1;32m    241\u001B[0m                 \u001B[38;5;28mlen\u001B[39m(pending), total_futures))\n\u001B[0;32m--> 243\u001B[0m \u001B[43mwaiter\u001B[49m\u001B[38;5;241;43m.\u001B[39;49m\u001B[43mevent\u001B[49m\u001B[38;5;241;43m.\u001B[39;49m\u001B[43mwait\u001B[49m\u001B[43m(\u001B[49m\u001B[43mwait_timeout\u001B[49m\u001B[43m)\u001B[49m\n\u001B[1;32m    245\u001B[0m \u001B[38;5;28;01mwith\u001B[39;00m waiter\u001B[38;5;241m.\u001B[39mlock:\n",
      "File \u001B[0;32m/opt/anaconda3/envs/Movie_rec/lib/python3.11/threading.py:629\u001B[0m, in \u001B[0;36mEvent.wait\u001B[0;34m(self, timeout)\u001B[0m\n\u001B[1;32m    628\u001B[0m \u001B[38;5;28;01mif\u001B[39;00m \u001B[38;5;129;01mnot\u001B[39;00m signaled:\n\u001B[0;32m--> 629\u001B[0m     signaled \u001B[38;5;241m=\u001B[39m \u001B[38;5;28;43mself\u001B[39;49m\u001B[38;5;241;43m.\u001B[39;49m\u001B[43m_cond\u001B[49m\u001B[38;5;241;43m.\u001B[39;49m\u001B[43mwait\u001B[49m\u001B[43m(\u001B[49m\u001B[43mtimeout\u001B[49m\u001B[43m)\u001B[49m\n\u001B[1;32m    630\u001B[0m \u001B[38;5;28;01mreturn\u001B[39;00m signaled\n",
      "File \u001B[0;32m/opt/anaconda3/envs/Movie_rec/lib/python3.11/threading.py:327\u001B[0m, in \u001B[0;36mCondition.wait\u001B[0;34m(self, timeout)\u001B[0m\n\u001B[1;32m    326\u001B[0m \u001B[38;5;28;01mif\u001B[39;00m timeout \u001B[38;5;129;01mis\u001B[39;00m \u001B[38;5;28;01mNone\u001B[39;00m:\n\u001B[0;32m--> 327\u001B[0m     \u001B[43mwaiter\u001B[49m\u001B[38;5;241;43m.\u001B[39;49m\u001B[43macquire\u001B[49m\u001B[43m(\u001B[49m\u001B[43m)\u001B[49m\n\u001B[1;32m    328\u001B[0m     gotit \u001B[38;5;241m=\u001B[39m \u001B[38;5;28;01mTrue\u001B[39;00m\n",
      "\u001B[0;31mKeyboardInterrupt\u001B[0m: ",
      "\nDuring handling of the above exception, another exception occurred:\n",
      "\u001B[0;31mKeyboardInterrupt\u001B[0m                         Traceback (most recent call last)",
      "Cell \u001B[0;32mIn[52], line 37\u001B[0m\n\u001B[1;32m     34\u001B[0m \u001B[38;5;66;03m# Testing on a smaller subset of the DataFrame (e.g., first 100 rows)\u001B[39;00m\n\u001B[1;32m     36\u001B[0m testDataset \u001B[38;5;241m=\u001B[39m aggregated_reviews\u001B[38;5;241m.\u001B[39mhead(\u001B[38;5;241m50\u001B[39m)\n\u001B[0;32m---> 37\u001B[0m testDataset \u001B[38;5;241m=\u001B[39m \u001B[43mprocess_in_batches\u001B[49m\u001B[43m(\u001B[49m\u001B[43mtestDataset\u001B[49m\u001B[43m,\u001B[49m\u001B[43m \u001B[49m\u001B[43mbatch_size\u001B[49m\u001B[38;5;241;43m=\u001B[39;49m\u001B[38;5;241;43m5\u001B[39;49m\u001B[43m)\u001B[49m\n",
      "Cell \u001B[0;32mIn[52], line 26\u001B[0m, in \u001B[0;36mprocess_in_batches\u001B[0;34m(df, batch_size)\u001B[0m\n\u001B[1;32m     23\u001B[0m results \u001B[38;5;241m=\u001B[39m []\n\u001B[1;32m     24\u001B[0m chunks \u001B[38;5;241m=\u001B[39m [df[i:i\u001B[38;5;241m+\u001B[39mbatch_size] \u001B[38;5;28;01mfor\u001B[39;00m i \u001B[38;5;129;01min\u001B[39;00m \u001B[38;5;28mrange\u001B[39m(\u001B[38;5;241m0\u001B[39m, df\u001B[38;5;241m.\u001B[39mshape[\u001B[38;5;241m0\u001B[39m], batch_size)]\n\u001B[0;32m---> 26\u001B[0m \u001B[43m\u001B[49m\u001B[38;5;28;43;01mwith\u001B[39;49;00m\u001B[43m \u001B[49m\u001B[43mThreadPoolExecutor\u001B[49m\u001B[43m(\u001B[49m\u001B[43mmax_workers\u001B[49m\u001B[38;5;241;43m=\u001B[39;49m\u001B[38;5;241;43m4\u001B[39;49m\u001B[43m)\u001B[49m\u001B[43m \u001B[49m\u001B[38;5;28;43;01mas\u001B[39;49;00m\u001B[43m \u001B[49m\u001B[43mexecutor\u001B[49m\u001B[43m:\u001B[49m\u001B[43m  \u001B[49m\u001B[38;5;66;43;03m# Adjust `max_workers` as needed\u001B[39;49;00m\n\u001B[1;32m     27\u001B[0m \u001B[43m    \u001B[49m\u001B[43mfutures\u001B[49m\u001B[43m \u001B[49m\u001B[38;5;241;43m=\u001B[39;49m\u001B[43m \u001B[49m\u001B[43m[\u001B[49m\u001B[43mexecutor\u001B[49m\u001B[38;5;241;43m.\u001B[39;49m\u001B[43msubmit\u001B[49m\u001B[43m(\u001B[49m\u001B[43mprocess_chunk\u001B[49m\u001B[43m,\u001B[49m\u001B[43m \u001B[49m\u001B[43mchunk\u001B[49m\u001B[43m)\u001B[49m\u001B[43m \u001B[49m\u001B[38;5;28;43;01mfor\u001B[39;49;00m\u001B[43m \u001B[49m\u001B[43mchunk\u001B[49m\u001B[43m \u001B[49m\u001B[38;5;129;43;01min\u001B[39;49;00m\u001B[43m \u001B[49m\u001B[43mchunks\u001B[49m\u001B[43m]\u001B[49m\n\u001B[1;32m     29\u001B[0m \u001B[43m    \u001B[49m\u001B[38;5;28;43;01mfor\u001B[39;49;00m\u001B[43m \u001B[49m\u001B[43mfuture\u001B[49m\u001B[43m \u001B[49m\u001B[38;5;129;43;01min\u001B[39;49;00m\u001B[43m \u001B[49m\u001B[43mas_completed\u001B[49m\u001B[43m(\u001B[49m\u001B[43mfutures\u001B[49m\u001B[43m)\u001B[49m\u001B[43m:\u001B[49m\n",
      "File \u001B[0;32m/opt/anaconda3/envs/Movie_rec/lib/python3.11/concurrent/futures/_base.py:647\u001B[0m, in \u001B[0;36mExecutor.__exit__\u001B[0;34m(self, exc_type, exc_val, exc_tb)\u001B[0m\n\u001B[1;32m    646\u001B[0m \u001B[38;5;28;01mdef\u001B[39;00m \u001B[38;5;21m__exit__\u001B[39m(\u001B[38;5;28mself\u001B[39m, exc_type, exc_val, exc_tb):\n\u001B[0;32m--> 647\u001B[0m     \u001B[38;5;28;43mself\u001B[39;49m\u001B[38;5;241;43m.\u001B[39;49m\u001B[43mshutdown\u001B[49m\u001B[43m(\u001B[49m\u001B[43mwait\u001B[49m\u001B[38;5;241;43m=\u001B[39;49m\u001B[38;5;28;43;01mTrue\u001B[39;49;00m\u001B[43m)\u001B[49m\n\u001B[1;32m    648\u001B[0m     \u001B[38;5;28;01mreturn\u001B[39;00m \u001B[38;5;28;01mFalse\u001B[39;00m\n",
      "File \u001B[0;32m/opt/anaconda3/envs/Movie_rec/lib/python3.11/concurrent/futures/thread.py:235\u001B[0m, in \u001B[0;36mThreadPoolExecutor.shutdown\u001B[0;34m(self, wait, cancel_futures)\u001B[0m\n\u001B[1;32m    233\u001B[0m \u001B[38;5;28;01mif\u001B[39;00m wait:\n\u001B[1;32m    234\u001B[0m     \u001B[38;5;28;01mfor\u001B[39;00m t \u001B[38;5;129;01min\u001B[39;00m \u001B[38;5;28mself\u001B[39m\u001B[38;5;241m.\u001B[39m_threads:\n\u001B[0;32m--> 235\u001B[0m         \u001B[43mt\u001B[49m\u001B[38;5;241;43m.\u001B[39;49m\u001B[43mjoin\u001B[49m\u001B[43m(\u001B[49m\u001B[43m)\u001B[49m\n",
      "File \u001B[0;32m/opt/anaconda3/envs/Movie_rec/lib/python3.11/threading.py:1119\u001B[0m, in \u001B[0;36mThread.join\u001B[0;34m(self, timeout)\u001B[0m\n\u001B[1;32m   1116\u001B[0m     \u001B[38;5;28;01mraise\u001B[39;00m \u001B[38;5;167;01mRuntimeError\u001B[39;00m(\u001B[38;5;124m\"\u001B[39m\u001B[38;5;124mcannot join current thread\u001B[39m\u001B[38;5;124m\"\u001B[39m)\n\u001B[1;32m   1118\u001B[0m \u001B[38;5;28;01mif\u001B[39;00m timeout \u001B[38;5;129;01mis\u001B[39;00m \u001B[38;5;28;01mNone\u001B[39;00m:\n\u001B[0;32m-> 1119\u001B[0m     \u001B[38;5;28;43mself\u001B[39;49m\u001B[38;5;241;43m.\u001B[39;49m\u001B[43m_wait_for_tstate_lock\u001B[49m\u001B[43m(\u001B[49m\u001B[43m)\u001B[49m\n\u001B[1;32m   1120\u001B[0m \u001B[38;5;28;01melse\u001B[39;00m:\n\u001B[1;32m   1121\u001B[0m     \u001B[38;5;66;03m# the behavior of a negative timeout isn't documented, but\u001B[39;00m\n\u001B[1;32m   1122\u001B[0m     \u001B[38;5;66;03m# historically .join(timeout=x) for x<0 has acted as if timeout=0\u001B[39;00m\n\u001B[1;32m   1123\u001B[0m     \u001B[38;5;28mself\u001B[39m\u001B[38;5;241m.\u001B[39m_wait_for_tstate_lock(timeout\u001B[38;5;241m=\u001B[39m\u001B[38;5;28mmax\u001B[39m(timeout, \u001B[38;5;241m0\u001B[39m))\n",
      "File \u001B[0;32m/opt/anaconda3/envs/Movie_rec/lib/python3.11/threading.py:1139\u001B[0m, in \u001B[0;36mThread._wait_for_tstate_lock\u001B[0;34m(self, block, timeout)\u001B[0m\n\u001B[1;32m   1136\u001B[0m     \u001B[38;5;28;01mreturn\u001B[39;00m\n\u001B[1;32m   1138\u001B[0m \u001B[38;5;28;01mtry\u001B[39;00m:\n\u001B[0;32m-> 1139\u001B[0m     \u001B[38;5;28;01mif\u001B[39;00m \u001B[43mlock\u001B[49m\u001B[38;5;241;43m.\u001B[39;49m\u001B[43macquire\u001B[49m\u001B[43m(\u001B[49m\u001B[43mblock\u001B[49m\u001B[43m,\u001B[49m\u001B[43m \u001B[49m\u001B[43mtimeout\u001B[49m\u001B[43m)\u001B[49m:\n\u001B[1;32m   1140\u001B[0m         lock\u001B[38;5;241m.\u001B[39mrelease()\n\u001B[1;32m   1141\u001B[0m         \u001B[38;5;28mself\u001B[39m\u001B[38;5;241m.\u001B[39m_stop()\n",
      "\u001B[0;31mKeyboardInterrupt\u001B[0m: "
     ]
    }
   ],
   "execution_count": 52
  },
  {
   "metadata": {
    "ExecuteTime": {
     "end_time": "2024-11-14T04:45:45.465973Z",
     "start_time": "2024-11-14T04:45:45.460217Z"
    }
   },
   "cell_type": "code",
   "source": "",
   "id": "633f089dbc24b51b",
   "outputs": [
    {
     "data": {
      "text/plain": [
       "   item_id                                        all_reviews  \\\n",
       "0        1  The one film that started what is now a cliché...   \n",
       "1        2  Fun little movie hidden in the back drawer; Mo...   \n",
       "2        3  Our Second Visit to Wabasha, Minnesota; Sequel...   \n",
       "3        4  Extra in Movie; I was actually an extra in thi...   \n",
       "4        5  The Best Movie of All Time; let me tell you.. ...   \n",
       "\n",
       "                                title  \n",
       "0                    Toy Story (1995)  \n",
       "1                      Jumanji (1995)  \n",
       "2             Grumpier Old Men (1995)  \n",
       "3            Waiting to Exhale (1995)  \n",
       "4  Father of the Bride Part II (1995)  "
      ],
      "text/html": [
       "<div>\n",
       "<style scoped>\n",
       "    .dataframe tbody tr th:only-of-type {\n",
       "        vertical-align: middle;\n",
       "    }\n",
       "\n",
       "    .dataframe tbody tr th {\n",
       "        vertical-align: top;\n",
       "    }\n",
       "\n",
       "    .dataframe thead th {\n",
       "        text-align: right;\n",
       "    }\n",
       "</style>\n",
       "<table border=\"1\" class=\"dataframe\">\n",
       "  <thead>\n",
       "    <tr style=\"text-align: right;\">\n",
       "      <th></th>\n",
       "      <th>item_id</th>\n",
       "      <th>all_reviews</th>\n",
       "      <th>title</th>\n",
       "    </tr>\n",
       "  </thead>\n",
       "  <tbody>\n",
       "    <tr>\n",
       "      <th>0</th>\n",
       "      <td>1</td>\n",
       "      <td>The one film that started what is now a cliché...</td>\n",
       "      <td>Toy Story (1995)</td>\n",
       "    </tr>\n",
       "    <tr>\n",
       "      <th>1</th>\n",
       "      <td>2</td>\n",
       "      <td>Fun little movie hidden in the back drawer; Mo...</td>\n",
       "      <td>Jumanji (1995)</td>\n",
       "    </tr>\n",
       "    <tr>\n",
       "      <th>2</th>\n",
       "      <td>3</td>\n",
       "      <td>Our Second Visit to Wabasha, Minnesota; Sequel...</td>\n",
       "      <td>Grumpier Old Men (1995)</td>\n",
       "    </tr>\n",
       "    <tr>\n",
       "      <th>3</th>\n",
       "      <td>4</td>\n",
       "      <td>Extra in Movie; I was actually an extra in thi...</td>\n",
       "      <td>Waiting to Exhale (1995)</td>\n",
       "    </tr>\n",
       "    <tr>\n",
       "      <th>4</th>\n",
       "      <td>5</td>\n",
       "      <td>The Best Movie of All Time; let me tell you.. ...</td>\n",
       "      <td>Father of the Bride Part II (1995)</td>\n",
       "    </tr>\n",
       "  </tbody>\n",
       "</table>\n",
       "</div>"
      ]
     },
     "execution_count": 44,
     "metadata": {},
     "output_type": "execute_result"
    }
   ],
   "execution_count": 44
  },
  {
   "metadata": {
    "ExecuteTime": {
     "start_time": "2024-11-13T02:46:12.078996Z"
    }
   },
   "cell_type": "code",
   "source": [
    "# from transformers import LlamaForCausalLM, LlamaTokenizer\n",
    "# import torch\n",
    "# \n",
    "# model_name = \"meta-llama/Llama-3.2-11B-Vision-Instruct\"  # specify your LLaMA model path or identifier\n",
    "# tokenizer = LlamaTokenizer.from_pretrained(model_name)\n",
    "# model = LlamaForCausalLM.from_pretrained(model_name)\n",
    "# \n",
    "# def summarize_reviews(text):\n",
    "#     # Encode the prompt for summarization\n",
    "#     prompt = f\"Summarize the following movie reviews into a concise summary: {text}\"\n",
    "#     inputs = tokenizer(prompt, return_tensors=\"pt\").to(\"mps\" if torch.cuda.is_available() else \"cpu\")\n",
    "#     \n",
    "#     # Generate the summary\n",
    "#     summary_ids = model.generate(inputs.input_ids, max_length=100, min_length=30, do_sample=False)\n",
    "#     summary = tokenizer.decode(summary_ids[0], skip_special_tokens=True)\n",
    "#     return summary\n",
    "import ollama\n",
    "import pandas as pd\n",
    "\n",
    "# Define the function to summarize reviews using ollama's interface\n",
    "def summarize_reviews(movie_title, text):\n",
    "    # Create a prompt for the LLaMA model\n",
    "    prompt = f\"Given the following dataset of user reviews for the movie {movie_title}, your task is to analyze and summarize all the reviews provided. Ensure that the summary captures all the essential feedback, sentiments, themes, and details present in each review. Focus on representing the variety of perspectives accurately, including both positive and negative aspects, if present. This summary will help improve personalized movie recommendations, so please maintain a balanced view that reflects the overall impression left by users. The all users reviews :{text}\"\n",
    "    \n",
    "    # Generate the summary using the LLaMA model through Ollama\n",
    "    response = ollama.generate(model=\"llama3.2\", prompt=prompt)\n",
    "    # Extract and return the summary text from the response\n",
    "    summary = response[\"response\"]\n",
    "    return summary\n",
    "\n",
    "#check this thing on the smaller DF before running this function \n",
    "aggregated_reviews['review_summary'] = aggregated_reviews.apply(lambda row: summarize_reviews(row['title'], row['all_reviews']),axis=1)\n",
    "\n"
   ],
   "id": "ba54428cff747027",
   "outputs": [
    {
     "name": "stderr",
     "output_type": "stream",
     "text": [
      "Exception ignored in: <bound method IPythonKernel._clean_thread_parent_frames of <ipykernel.ipkernel.IPythonKernel object at 0x1057ee190>>\n",
      "Traceback (most recent call last):\n",
      "  File \"/opt/anaconda3/envs/Movie_rec/lib/python3.11/site-packages/ipykernel/ipkernel.py\", line 775, in _clean_thread_parent_frames\n",
      "    def _clean_thread_parent_frames(\n",
      "\n",
      "KeyboardInterrupt: \n"
     ]
    }
   ],
   "execution_count": null
  },
  {
   "metadata": {},
   "cell_type": "code",
   "outputs": [],
   "execution_count": null,
   "source": "aggregated_reviews.head()",
   "id": "9167db22d5991667"
  },
  {
   "metadata": {
    "ExecuteTime": {
     "end_time": "2024-11-13T02:42:23.223729Z",
     "start_time": "2024-11-13T02:42:23.223688Z"
    }
   },
   "cell_type": "code",
   "source": [
    "from sklearn.feature_extraction.text import TfidfVectorizer\n",
    "\n",
    "# Define a function for TF-IDF keyword extraction\n",
    "def extract_keywords(text, num_keywords=10):\n",
    "    tfidf = TfidfVectorizer(max_features=num_keywords, stop_words='english')\n",
    "    tfidf_matrix = tfidf.fit_transform([text])\n",
    "    keywords = tfidf.get_feature_names_out()\n",
    "    return ' '.join(keywords)\n",
    "\n",
    "# Apply keyword extraction to each movie's reviews\n",
    "aggregated_reviews['keywords'] = aggregated_reviews['all_reviews'].apply(extract_keywords)\n"
   ],
   "id": "5f1c3f128775b6ff",
   "outputs": [],
   "execution_count": null
  },
  {
   "metadata": {},
   "cell_type": "code",
   "outputs": [],
   "execution_count": null,
   "source": "",
   "id": "340f7d5dd75bcc6"
  },
  {
   "metadata": {},
   "cell_type": "code",
   "source": [
    "# from transformers import AutoTokenizer, AutoModelForSequenceClassification\n",
    "# import torch\n",
    "# \n",
    "# # Load a sentiment analysis model\n",
    "# tokenizer = AutoTokenizer.from_pretrained(\"nlptown/bert-base-multilingual-uncased-sentiment\")\n",
    "# model = AutoModelForSequenceClassification.from_pretrained(\"nlptown/bert-base-multilingual-uncased-sentiment\")\n",
    "# \n",
    "# def get_sentiment(text):\n",
    "#     inputs = tokenizer(text, return_tensors=\"pt\", truncation=True, max_length=512)\n",
    "#     outputs = model(**inputs)\n",
    "#     sentiment = torch.argmax(outputs.logits).item()\n",
    "#     return sentiment  # 0: negative, 4: positive, etc.\n",
    "# \n",
    "# # For demonstration, get general sentiment for the summary\n",
    "# aggregated_reviews['sentiment'] = aggregated_reviews['review_summary'].apply(get_sentiment)\n"
   ],
   "id": "3e9b88e63218a77f",
   "outputs": [],
   "execution_count": null
  }
 ],
 "metadata": {
  "kernelspec": {
   "display_name": "Python 3",
   "language": "python",
   "name": "python3"
  },
  "language_info": {
   "codemirror_mode": {
    "name": "ipython",
    "version": 2
   },
   "file_extension": ".py",
   "mimetype": "text/x-python",
   "name": "python",
   "nbconvert_exporter": "python",
   "pygments_lexer": "ipython2",
   "version": "2.7.6"
  }
 },
 "nbformat": 4,
 "nbformat_minor": 5
}
